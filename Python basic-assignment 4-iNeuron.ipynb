{
 "cells": [
  {
   "cell_type": "code",
   "execution_count": null,
   "id": "e1e2a01f",
   "metadata": {},
   "outputs": [],
   "source": [
    "1. What exactly is []?\n",
    "\n",
    "---------------------------------------------------------\n",
    "\n",
    "[] is called index bracket . They are used to define \"list literals,\" allowing you to declare a list and its contents \n",
    "in your program. "
   ]
  },
  {
   "cell_type": "code",
   "execution_count": null,
   "id": "0ed58922",
   "metadata": {},
   "outputs": [],
   "source": [
    "2. In a list of values stored in a variable called spam, how would you assign the value 'hello' as the\n",
    "third value? (Assume [2, 4, 6, 8, 10] are in spam.)\n",
    "Let's pretend the spam includes the list ['a','b','c','d'] for the next three queries.\n",
    "\n",
    "-----------------------------------------------\n",
    "\n",
    "spam = ['a','b','c','d']\n",
    "spam[2] = ' Hello '\n"
   ]
  },
  {
   "cell_type": "code",
   "execution_count": 1,
   "id": "30d98ab2",
   "metadata": {},
   "outputs": [
    {
     "data": {
      "text/plain": [
       "['a', 'b', ' Hello ', 'd']"
      ]
     },
     "execution_count": 1,
     "metadata": {},
     "output_type": "execute_result"
    }
   ],
   "source": [
    "#index   0   1   2   3\n",
    "spam = ['a','b','c','d']\n",
    "spam[2] = ' Hello ' # index 2 is the third number variable, a new value 'Hello' is assign to the third position and replacec 'c'\n",
    "spam"
   ]
  },
  {
   "cell_type": "code",
   "execution_count": null,
   "id": "c786d5f1",
   "metadata": {},
   "outputs": [],
   "source": [
    "3. What is the value of spam[int(int('3'* 2) / 11)]?\n"
   ]
  },
  {
   "cell_type": "code",
   "execution_count": 2,
   "id": "c71c0882",
   "metadata": {},
   "outputs": [
    {
     "data": {
      "text/plain": [
       "'d'"
      ]
     },
     "execution_count": 2,
     "metadata": {},
     "output_type": "execute_result"
    }
   ],
   "source": [
    "spam[int(int('3'* 2) / 11)] # '3'*2 - character 3 is written 2 times ,i.e. 33.now '33' character is converted to int .so 33/11 = 3 , \n",
    "                        #  now this character '3' is typecast to int value and counts the 4th index value that is spam[3] fron the list spam"
   ]
  },
  {
   "cell_type": "code",
   "execution_count": null,
   "id": "9992b599",
   "metadata": {},
   "outputs": [],
   "source": [
    "4. What is the value of spam[-1]?\n"
   ]
  },
  {
   "cell_type": "code",
   "execution_count": 3,
   "id": "7072b2df",
   "metadata": {},
   "outputs": [
    {
     "data": {
      "text/plain": [
       "'d'"
      ]
     },
     "execution_count": 3,
     "metadata": {},
     "output_type": "execute_result"
    }
   ],
   "source": [
    "spam[-1] # index startes right to left "
   ]
  },
  {
   "cell_type": "code",
   "execution_count": null,
   "id": "1d56bee0",
   "metadata": {},
   "outputs": [],
   "source": [
    "5. What is the value of spam[:2]?\n",
    "Let's pretend bacon has the list [3.14, 'cat,' 11, 'cat,' True] for the next three questions.\n"
   ]
  },
  {
   "cell_type": "code",
   "execution_count": 5,
   "id": "d3db3051",
   "metadata": {},
   "outputs": [
    {
     "data": {
      "text/plain": [
       "['a', 'b']"
      ]
     },
     "execution_count": 5,
     "metadata": {},
     "output_type": "execute_result"
    }
   ],
   "source": [
    "bacon = [3.14, 'cat ', 11, 'cat', True]\n",
    "spam[:2] # show the ending index and by default it takes 0 as the starting value so it will shows index value srarts from 0 and 2-1=1"
   ]
  },
  {
   "cell_type": "code",
   "execution_count": null,
   "id": "4bfd77d0",
   "metadata": {},
   "outputs": [],
   "source": [
    "6. What is the value of bacon.index('cat')?\n",
    "\n"
   ]
  },
  {
   "cell_type": "code",
   "execution_count": 6,
   "id": "9361976b",
   "metadata": {},
   "outputs": [
    {
     "data": {
      "text/plain": [
       "3"
      ]
     },
     "execution_count": 6,
     "metadata": {},
     "output_type": "execute_result"
    }
   ],
   "source": [
    "bacon.index('cat')"
   ]
  },
  {
   "cell_type": "code",
   "execution_count": null,
   "id": "8b83f7ff",
   "metadata": {},
   "outputs": [],
   "source": [
    "7. How does bacon.append(99) change the look of the list value in bacon?\n"
   ]
  },
  {
   "cell_type": "code",
   "execution_count": 8,
   "id": "7af99fbe",
   "metadata": {},
   "outputs": [
    {
     "data": {
      "text/plain": [
       "[3.14, 'cat ', 11, 'cat', True, 99, 99]"
      ]
     },
     "execution_count": 8,
     "metadata": {},
     "output_type": "execute_result"
    }
   ],
   "source": [
    "bacon.append(99) # merge 99 to the list bacon\n",
    "bacon"
   ]
  },
  {
   "cell_type": "code",
   "execution_count": null,
   "id": "ab91003d",
   "metadata": {},
   "outputs": [],
   "source": [
    "8. How does bacon.remove('cat') change the look of the list in bacon?\n"
   ]
  },
  {
   "cell_type": "code",
   "execution_count": 9,
   "id": "18af3fd4",
   "metadata": {},
   "outputs": [],
   "source": [
    "bacon.remove('cat') # removes 'cat' from the list that comes first from backward"
   ]
  },
  {
   "cell_type": "code",
   "execution_count": 10,
   "id": "79625d7d",
   "metadata": {},
   "outputs": [
    {
     "data": {
      "text/plain": [
       "[3.14, 'cat ', 11, True, 99, 99]"
      ]
     },
     "execution_count": 10,
     "metadata": {},
     "output_type": "execute_result"
    }
   ],
   "source": [
    "bacon"
   ]
  },
  {
   "cell_type": "code",
   "execution_count": null,
   "id": "50dd2e66",
   "metadata": {},
   "outputs": [],
   "source": [
    "9. What are the list concatenation and list replication operators? \n",
    "\n",
    "------------------------------------------------------\n",
    "\n",
    "List concatenation : merging for two or more lists that means variables of both lists will be merged. we use '+' to concatenate the list.\n",
    "List replication : data duplicates . the set of data will be replicated or duplicate data will be added to the list . we use '*' for list replication.    \n",
    "    \n",
    "\n"
   ]
  },
  {
   "cell_type": "code",
   "execution_count": 13,
   "id": "baf5f0ab",
   "metadata": {},
   "outputs": [
    {
     "data": {
      "text/plain": [
       "[10, 100, 1000, 10000]"
      ]
     },
     "execution_count": 13,
     "metadata": {},
     "output_type": "execute_result"
    }
   ],
   "source": [
    "l1 = [10,100]\n",
    "l2 = [1000,10000]\n",
    "# list concatination\n",
    "\n",
    "l1+l2"
   ]
  },
  {
   "cell_type": "code",
   "execution_count": 14,
   "id": "dd748598",
   "metadata": {},
   "outputs": [
    {
     "data": {
      "text/plain": [
       "[1000, 10000, 1000, 10000, 1000, 10000, 1000, 10000, 1000, 10000]"
      ]
     },
     "execution_count": 14,
     "metadata": {},
     "output_type": "execute_result"
    }
   ],
   "source": [
    "l3 = l2*5 # list replication\n",
    "l3\n"
   ]
  },
  {
   "cell_type": "code",
   "execution_count": null,
   "id": "9baaadbb",
   "metadata": {},
   "outputs": [],
   "source": [
    "10. What is difference between the list methods append() and insert()?\n",
    "\n",
    "-----------------------------------------------------------------\n",
    "\n",
    "append() Appends object to the end of the list\n",
    "insert() Inserts an item in a specified position in the list.\n"
   ]
  },
  {
   "cell_type": "code",
   "execution_count": 17,
   "id": "9bbb7610",
   "metadata": {},
   "outputs": [
    {
     "name": "stdout",
     "output_type": "stream",
     "text": [
      "[10, 20, 30, 'v', 40, 'x']\n",
      "[10, 20, 't', 30, 'v', 40, 'x']\n"
     ]
    }
   ],
   "source": [
    "l = [10,20,30,'v',40]\n",
    "\n",
    "l.append('x')\n",
    "print(l)\n",
    "\n",
    "l.insert(2,'t')\n",
    "print(l)"
   ]
  },
  {
   "cell_type": "code",
   "execution_count": null,
   "id": "0c12cfb3",
   "metadata": {},
   "outputs": [],
   "source": [
    "11. What are the two methods for removing items from a list?\n",
    "\n",
    "--------------------------------------------------------------------\n",
    "\n",
    "remove(item) - removeds first occurence of a item.\n",
    "pop() - Remove and returns item at index (default last).\n",
    "\n"
   ]
  },
  {
   "cell_type": "code",
   "execution_count": 18,
   "id": "68f13169",
   "metadata": {},
   "outputs": [
    {
     "name": "stdout",
     "output_type": "stream",
     "text": [
      "after remove() -  [1, 2, 3, 'e', 4, 5, 6, 7, 8, 9, 'm']\n",
      "after pop() -  [1, 2, 3, 'e', 4, 5, 6, 7, 8, 9]\n"
     ]
    }
   ],
   "source": [
    "l= [1,2,3,'e',4,5,6,'h',7,8,9,'m']\n",
    "\n",
    "l.remove('h')\n",
    "print('after remove() - ', l)\n",
    "\n",
    "l.pop()\n",
    "print('after pop() - ',l)"
   ]
  },
  {
   "cell_type": "code",
   "execution_count": null,
   "id": "2d7aaf83",
   "metadata": {},
   "outputs": [],
   "source": [
    "12. Describe how list values and string values are identical.\n",
    "\n",
    "-------------------------------------------------------------\n",
    "\n",
    "-Both lists and strings can be passed to len()\n",
    "-Have indexes and slices\n",
    "-Can be used in for loops\n",
    "-Can be concatenated or replicated\n",
    "-Can be used with the in and not in operators\n"
   ]
  },
  {
   "cell_type": "code",
   "execution_count": null,
   "id": "b3ebdd8f",
   "metadata": {},
   "outputs": [],
   "source": [
    "13. What's the difference between tuples and lists?\n",
    "\n",
    "-------------------------------------------------\n",
    "\n",
    "Lists : are mutable - they can have values added, removed, or changed. lists use the square brackets, [  ]\n",
    "Tuples : are immutable; they cannot be changed at all. Tuples are written using parentheses, (  )"
   ]
  },
  {
   "cell_type": "code",
   "execution_count": null,
   "id": "fa95081d",
   "metadata": {},
   "outputs": [],
   "source": [
    "14. How do you type a tuple value that only contains the integer 42?\n",
    "\n",
    "---------------------------------------------\n",
    "\n",
    "tuple = (42,)\n",
    "tuple"
   ]
  },
  {
   "cell_type": "code",
   "execution_count": null,
   "id": "702d3096",
   "metadata": {},
   "outputs": [],
   "source": [
    "15. How do you get a list value's tuple form? How do you get a tuple value's list form?\n",
    "\n",
    "--------------------------------------------------------\n",
    "# list to tuple\n",
    "\n",
    "l1 = [2,3]\n",
    "l = tuple(l1)\n",
    "l\n",
    "\n",
    "#tuple to list\n",
    "\n",
    "t1 = (3,4)\n",
    "t = list(t1)\n",
    "t"
   ]
  },
  {
   "cell_type": "code",
   "execution_count": 19,
   "id": "5aa158fb",
   "metadata": {},
   "outputs": [
    {
     "data": {
      "text/plain": [
       "(2, 3)"
      ]
     },
     "execution_count": 19,
     "metadata": {},
     "output_type": "execute_result"
    }
   ],
   "source": [
    "l1 = [2,3]\n",
    "l = tuple(l1)\n",
    "l"
   ]
  },
  {
   "cell_type": "code",
   "execution_count": 20,
   "id": "1ee568b8",
   "metadata": {},
   "outputs": [
    {
     "data": {
      "text/plain": [
       "[3, 4]"
      ]
     },
     "execution_count": 20,
     "metadata": {},
     "output_type": "execute_result"
    }
   ],
   "source": [
    "t1 = (3,4)\n",
    "t = list(t1)\n",
    "t"
   ]
  },
  {
   "cell_type": "code",
   "execution_count": null,
   "id": "32c71db2",
   "metadata": {},
   "outputs": [],
   "source": [
    "16. Variables that \"contain\" list values are not necessarily lists themselves. Instead, what do they\n",
    "contain?\n",
    "\n",
    "-----------------------------------------------------\n",
    "\n",
    "They contain references to list values"
   ]
  },
  {
   "cell_type": "code",
   "execution_count": null,
   "id": "61730e06",
   "metadata": {},
   "outputs": [],
   "source": [
    "17. How do you distinguish between copy.copy() and copy.deepcopy()?\n",
    "\n",
    "---------------------------------------------------\n",
    "\n",
    "The copy.copy() function will do a shallow copy of a list,\n",
    "The copy.deepcopy() function will do a deep copy of a list. only copy.deepcopy() will duplicate any lists inside the list\n"
   ]
  }
 ],
 "metadata": {
  "kernelspec": {
   "display_name": "Python 3 (ipykernel)",
   "language": "python",
   "name": "python3"
  },
  "language_info": {
   "codemirror_mode": {
    "name": "ipython",
    "version": 3
   },
   "file_extension": ".py",
   "mimetype": "text/x-python",
   "name": "python",
   "nbconvert_exporter": "python",
   "pygments_lexer": "ipython3",
   "version": "3.9.13"
  }
 },
 "nbformat": 4,
 "nbformat_minor": 5
}
