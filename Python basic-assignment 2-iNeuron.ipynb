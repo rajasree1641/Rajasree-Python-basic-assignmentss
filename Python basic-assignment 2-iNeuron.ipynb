{
 "cells": [
  {
   "cell_type": "code",
   "execution_count": null,
   "id": "473cbcfe",
   "metadata": {},
   "outputs": [],
   "source": [
    "1.What are the two values of the Boolean data type? How do you write them?\n",
    "\n",
    "----------------------------------------------\n",
    "\n",
    "Boolean data type has 2 value -: true and false\n",
    "    \n",
    "we can directly assign the bool value to a variable\n",
    "ex : a = true or a = false or a != true \n"
   ]
  },
  {
   "cell_type": "code",
   "execution_count": null,
   "id": "edf715ca",
   "metadata": {},
   "outputs": [],
   "source": [
    "2. What are the three different types of Boolean operators?\n",
    "\n",
    "--------------------------------------------------------------\n",
    "\n",
    "3 boolean operators are -  AND , OR , NOT\n",
    "\n",
    "ex=\n",
    "1> if a>3 and b=5 (satisfy both conditions then return true)\n",
    "2> if a>3 or b=5 (satisfy either of the conditions then return true)\n",
    "3> if a != 10 (if a is not equal to 10 the return true)\n"
   ]
  },
  {
   "cell_type": "code",
   "execution_count": null,
   "id": "f80339e7",
   "metadata": {},
   "outputs": [],
   "source": [
    "3. Make a list of each Boolean operator's truth tables (i.e. every possible combination of Boolean\n",
    "values for the operator and what it evaluate ).\n",
    "\n",
    "------------------------------------------------------------------\n",
    "\n",
    "and Operator \n",
    "                X       Y          X and Y\n",
    "               true    true         true\n",
    "               true    false        false\n",
    "               false   true         false\n",
    "               false   false        false\n",
    "            \n",
    "            \n",
    "or Operator \n",
    "                X       Y          X or Y\n",
    "               true    true         ture\n",
    "               true    false        true\n",
    "               false   true         true\n",
    "               false   false        false\n",
    "            \n",
    "not operator \n",
    "                X                  not X\n",
    "               true                false\n",
    "               false               true"
   ]
  },
  {
   "cell_type": "code",
   "execution_count": null,
   "id": "b63077af",
   "metadata": {},
   "outputs": [],
   "source": [
    "4. What are the values of the following expressions?\n",
    "(5 > 4) and (3 == 5)\n",
    "not (5 > 4)\n",
    "(5 > 4) or (3 == 5)\n",
    "not ((5 > 4) or (3 == 5))\n",
    "(True and True) and (True == False)\n",
    "(not False) or (not True)\n",
    "\n",
    "----------------------------------------------------------\n",
    "\n",
    "(5 > 4) and (3 == 5)   ----------------------> false\n",
    "not (5 > 4)   -------------------------------> false\n",
    "(5 > 4) or (3 == 5)  ------------------------> true\n",
    "not ((5 > 4) or (3 == 5)) -------------------> false\n",
    "(True and True) and (True == False) ---------> false\n",
    "(not False) or (not True) -------------------> true\n"
   ]
  },
  {
   "cell_type": "code",
   "execution_count": null,
   "id": "de189a91",
   "metadata": {},
   "outputs": [],
   "source": [
    "5. What are the six comparison operators?\n",
    "\n",
    "--------------------------------------------------------\n",
    "\n",
    "Less Than (<) Operator. ----------------------------> (a < 5)\n",
    "Greater Than (>) Operator. -------------------------> (a > 1)\n",
    "Less Than or Equal To (<=) Operator. ---------------> (a <= 4)\n",
    "Equal To or Greater Than – Python (>=) Operator. ---> (a >= 2)\n",
    "Equal To (==) Operator. ----------------------------> (a == 3)\n",
    "Not Equal Operator (!=). ---------------------------> (a != 2)\n"
   ]
  },
  {
   "cell_type": "code",
   "execution_count": null,
   "id": "2449b29f",
   "metadata": {},
   "outputs": [],
   "source": [
    "6. How do you tell the difference between the equal to and assignment operators?\n",
    "Describe a condition and when you would use one.\n",
    "\n",
    "----------------------------------------------------------\n",
    "\n",
    "a = 15  (= operator assign a value to the variable )\n",
    "a == 10 (== operator compares the operands by checking the equality of values of variable,returns a boolean value.)\n"
   ]
  },
  {
   "cell_type": "code",
   "execution_count": null,
   "id": "58b5875e",
   "metadata": {},
   "outputs": [],
   "source": [
    "7. Identify the three blocks in this code:\n",
    "spam = 0\n",
    "if spam == 10:\n",
    "print('eggs')\n",
    "if spam > 5:\n",
    "print('bacon')\n",
    "else:\n",
    "print('ham')\n",
    "print('spam')\n",
    "print('spam')\n",
    "\n",
    "---------------------------------------------\n",
    "\n",
    "if spam == 10:\n",
    "print('eggs') -------> tab space missing before print statement(indentation error)\n",
    "if spam > 5:\n",
    "print('bacon') ------------>tab space missing before print statement(indentation error)\n",
    "else:\n",
    "print('ham')  -|\n",
    "print('spam') -|--------->tab space missing before print statement(indentation error)\n",
    "print('spam') -|\n",
    "\n",
    "\n",
    "indentation error -  as in this above program every both the if and else block there should be a tab space gap before print statement,otherwise it will through the untendation error."
   ]
  },
  {
   "cell_type": "code",
   "execution_count": null,
   "id": "fc0e1bf3",
   "metadata": {},
   "outputs": [],
   "source": [
    "8. Write code that prints Hello if 1 is stored in spam, prints Howdy if 2 is stored in spam, and prints\n",
    "Greetings! if anything else is stored in spam.\n",
    "\n",
    "spam=int(input(\"enter the value for spam : \"))\n",
    "\n",
    "if spam=1:\n",
    "    print(\"HELLO\")\n",
    "elif spam=2:\n",
    "    print(\"HOWDY\")\n",
    "else:\n",
    "    print(\"GREETINGS\")\n"
   ]
  },
  {
   "cell_type": "code",
   "execution_count": 4,
   "id": "205b2b3a",
   "metadata": {},
   "outputs": [
    {
     "name": "stdout",
     "output_type": "stream",
     "text": [
      "enter the value for spam : 10\n",
      "GREETINGS\n"
     ]
    }
   ],
   "source": [
    "spam=int(input(\"enter the value for spam : \"))\n",
    "\n",
    "if spam==1:\n",
    "    print(\"HELLO\")\n",
    "elif spam==2:\n",
    "    print(\"HOWDY\")\n",
    "else:\n",
    "    print(\"GREETINGS\")\n"
   ]
  },
  {
   "cell_type": "code",
   "execution_count": null,
   "id": "37ba584f",
   "metadata": {},
   "outputs": [],
   "source": [
    "9.If your programme is stuck in an endless loop, what keys you’ll press?\n",
    "\n",
    "----------------------------------------------------\n",
    "\n",
    "An infinite loop occurs when a program keeps executing within one loop, never leaving it. To exit out of infinite loops on the command line, press CTRL + C .\n"
   ]
  },
  {
   "cell_type": "code",
   "execution_count": null,
   "id": "afb4ec0a",
   "metadata": {},
   "outputs": [],
   "source": [
    "10. How can you tell the difference between break and continue?\n",
    "\n",
    "-----------------------------------------\n",
    "\n",
    "break - The break statement is used to terminate the loop immediately when it is encountered.\n",
    "continue - The continue statement is used to skip the current iteration of the loop and the control flow of the program goes to the next iteration.\n"
   ]
  },
  {
   "cell_type": "code",
   "execution_count": null,
   "id": "8ea61f1c",
   "metadata": {},
   "outputs": [],
   "source": [
    "11. In a for loop, what is the difference between range(10), range(0, 10), and range(0, 10, 1)?\n",
    "\n",
    "--------------------------------------------------------------------\n",
    "Here all the for loops results same .\n",
    "\n",
    "1)  for i in range(10)\n",
    "\n",
    "        range(10) is not the values of 0 to 10, but the values 0 to 10-1 that is 0 to 9.\n",
    "\n",
    "2)  for i in range(0,10)\n",
    "        range(0, 10), which means values from starting point '0' to ending point 10-1( that is 9 but not including 10)\n",
    "\n",
    "3)  for i in range(0,10,1)\n",
    "        range(0,10,1), which means values from 0 to 10-1(that is 9 not including 10) and increasing by a sequence of 1\n"
   ]
  },
  {
   "cell_type": "code",
   "execution_count": null,
   "id": "f2f092fb",
   "metadata": {},
   "outputs": [],
   "source": [
    "12. Write a short program that prints the numbers 1 to 10 using a for loop. Then write an equivalent\n",
    "program that prints the numbers 1 to 10 using a while loop. \n"
   ]
  },
  {
   "cell_type": "code",
   "execution_count": 8,
   "id": "55e69ac1",
   "metadata": {},
   "outputs": [
    {
     "name": "stdout",
     "output_type": "stream",
     "text": [
      "1\n",
      "2\n",
      "3\n",
      "4\n",
      "5\n",
      "6\n",
      "7\n",
      "8\n",
      "9\n",
      "10\n"
     ]
    }
   ],
   "source": [
    "i=1\n",
    "for i in range(1,10+1):\n",
    "    print(i)\n",
    "    i += 1\n",
    "    "
   ]
  },
  {
   "cell_type": "code",
   "execution_count": 9,
   "id": "cbe545d4",
   "metadata": {},
   "outputs": [
    {
     "name": "stdout",
     "output_type": "stream",
     "text": [
      "1\n",
      "2\n",
      "3\n",
      "4\n",
      "5\n",
      "6\n",
      "7\n",
      "8\n",
      "9\n",
      "10\n"
     ]
    }
   ],
   "source": [
    "i=1\n",
    "while i<=10:\n",
    "    print(i)\n",
    "    i += 1\n"
   ]
  },
  {
   "cell_type": "code",
   "execution_count": null,
   "id": "8bb76748",
   "metadata": {},
   "outputs": [],
   "source": [
    "13. If you had a function named bacon() inside a module named spam, how would you call it after\n",
    "importing spam?\n",
    "\n",
    "---------------------------------------------------------\n",
    "\n",
    "This function can be called with spam.bacon()."
   ]
  }
 ],
 "metadata": {
  "kernelspec": {
   "display_name": "Python 3 (ipykernel)",
   "language": "python",
   "name": "python3"
  },
  "language_info": {
   "codemirror_mode": {
    "name": "ipython",
    "version": 3
   },
   "file_extension": ".py",
   "mimetype": "text/x-python",
   "name": "python",
   "nbconvert_exporter": "python",
   "pygments_lexer": "ipython3",
   "version": "3.9.13"
  }
 },
 "nbformat": 4,
 "nbformat_minor": 5
}
