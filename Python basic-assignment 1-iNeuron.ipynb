{
 "cells": [
  {
   "cell_type": "code",
   "execution_count": null,
   "id": "7d39a9a2",
   "metadata": {},
   "outputs": [],
   "source": [
    "1. In the below elements which of them are values or an expression? eg:- values can be\n",
    "integer or string and expressions will be mathematical operators.\n",
    "*\n",
    "'hello'\n",
    "-87.8\n",
    "-\n",
    "/\n",
    "+\n",
    "6"
   ]
  },
  {
   "cell_type": "code",
   "execution_count": null,
   "id": "1c0cdc93",
   "metadata": {},
   "outputs": [],
   "source": [
    "A sequence of operator and operand, like a+b-5 , is called and expression .expression are representation of value.\n",
    "A value is one of the basic things a program works with, like a letter or a number. You can print values in Python.\n",
    "\n",
    "* -: expression\n",
    "'hello' -: value\n",
    "-87.8 -:value\n",
    "- -: expression\n",
    "/ -: expression\n",
    "+ -: expression\n",
    "6 -: value"
   ]
  },
  {
   "cell_type": "code",
   "execution_count": null,
   "id": "b0987022",
   "metadata": {},
   "outputs": [],
   "source": [
    "2. What is the difference between string and variable?"
   ]
  },
  {
   "cell_type": "code",
   "execution_count": null,
   "id": "5034004a",
   "metadata": {},
   "outputs": [],
   "source": [
    "Variables are symbols that you can use to store data in a program. \n",
    "A Python variable is a symbolic name that is a reference or pointer to an object.\n",
    "    ex- : n = 300\n",
    "    \n",
    "A string is a value representing text. A variable is a name that can refer to any value.\n",
    "Python strings are \"immutable\" which means they cannot be changed after they are created.\n",
    "    ex- : s = 'hi'"
   ]
  },
  {
   "cell_type": "code",
   "execution_count": null,
   "id": "126d13bb",
   "metadata": {},
   "outputs": [],
   "source": [
    "3. Describe three different data types."
   ]
  },
  {
   "cell_type": "code",
   "execution_count": null,
   "id": "90a83d96",
   "metadata": {},
   "outputs": [],
   "source": [
    "3 Different types of datatypes are - string , numeric , sequence \n",
    "\n",
    "String Data type - String is a set of character , represented by single or double quote .\n",
    "        i = \"iNeuron\"\n",
    "Numeric Data type - Numeric data type can be integer or decimal or comlpex numbers\n",
    "    Numeric datatype devided into 3 types - \n",
    "        1.Integer -holds signed integers of non-limited length.\n",
    "        2.Float - holds floating precision numbers and it’s accurate up to 15 decimal places.\n",
    "        3.Complex -  holds complex numbers.\n",
    "Sequence Data types - set of Data stored ,it may be in a sequenced or insequenced\n",
    "        eg List , Set , Dictionary , Tuple"
   ]
  },
  {
   "cell_type": "code",
   "execution_count": null,
   "id": "4c4637b2",
   "metadata": {},
   "outputs": [],
   "source": [
    "4. What is an expression made up of? What do all expressions do?"
   ]
  },
  {
   "cell_type": "code",
   "execution_count": null,
   "id": "96386699",
   "metadata": {},
   "outputs": [],
   "source": [
    "A combination of operands and operators is called an expression. The expression in Python produces some value or result after being interpreted by the Python interpreter. An expression in Python is a combination of operators and operands.\n",
    "\n",
    "An example of expression can be : x = x + 10. In this expression, the first 10 is added to the variable x. After the addition is performed, the result is assigned to the variable x.\n",
    "\n",
    "x = 25          # a statement\n",
    "x = x + 10      # an expression\n",
    "\n",
    "An expression in Python is very different from statements in Python. A statement is not evaluated for some results. A statement is used for creating variables or for displaying values.\n",
    "\n",
    "An expression in Python can contain identifiers, operators, and operands. \n",
    "\n",
    "An identifier is a name that is used to define and identify a class, variable, or function in Python.\n",
    "\n",
    "An operand is an object that is operated on. On the other hand, an operator is a special symbol that performs the arithmetic or logical computations on the operands. There are many types of operators in Python, some of them are :\n",
    "\n",
    "+ : add (plus).\n",
    "- : subtract (minus).\n",
    "x : multiply.\n",
    "/ : divide.\n",
    "** : power.\n",
    "% : modulo.\n",
    "<< : left shift.\n",
    ">> : right shift.\n",
    "& : bit-wise AND.\n",
    "| : bit-wise OR.\n",
    "^ : bit-wise XOR.\n",
    "~ : bit-wise invert.\n",
    "< : less than.\n",
    "> : greater than.\n",
    "<= : less than or equal to.\n",
    ">= : greater than or equal to.\n",
    "== : equal to.\n",
    "!= : not equal to.\n",
    "and : boolean AND.\n",
    "or : boolean OR.\n",
    "not : boolean NOT.\n",
    "The expression in Python can be considered as a logical line of code that is evaluated to obtain some result. If there are various operators in an expression then the operators are resolved based on their precedence."
   ]
  },
  {
   "cell_type": "code",
   "execution_count": null,
   "id": "a4222b1e",
   "metadata": {},
   "outputs": [],
   "source": [
    "5. This assignment statements, like spam = 10. What is the difference between an\n",
    "expression and a statement?"
   ]
  },
  {
   "cell_type": "code",
   "execution_count": null,
   "id": "0fbe44b8",
   "metadata": {},
   "outputs": [],
   "source": [
    "spam = 10 -----> this is a statement\n",
    "spam += 10  -----------> this is an expression"
   ]
  },
  {
   "cell_type": "code",
   "execution_count": null,
   "id": "26f5d11b",
   "metadata": {},
   "outputs": [],
   "source": [
    "6. After running the following code, what does the variable bacon contain?\n",
    "bacon = 22\n",
    "bacon + 1"
   ]
  },
  {
   "cell_type": "code",
   "execution_count": 3,
   "id": "ea17a01e",
   "metadata": {},
   "outputs": [
    {
     "name": "stdout",
     "output_type": "stream",
     "text": [
      "bacon + 1 =  23\n",
      "bacon=   22\n"
     ]
    }
   ],
   "source": [
    "bacon = 22\n",
    "\n",
    "print(\"bacon + 1 = \" , bacon + 1) \n",
    "print(\"bacon=  \" , bacon)\n",
    "\n",
    "# the value of bacon is same"
   ]
  },
  {
   "cell_type": "code",
   "execution_count": null,
   "id": "ca7e595f",
   "metadata": {},
   "outputs": [],
   "source": [
    "7. What should the values of the following two terms be?\n",
    "'spam' + 'spamspam '\n",
    "'spam'* 3\n",
    "\n"
   ]
  },
  {
   "cell_type": "code",
   "execution_count": 5,
   "id": "eccef6fc",
   "metadata": {},
   "outputs": [
    {
     "name": "stdout",
     "output_type": "stream",
     "text": [
      "spamspamspam \n",
      "spamspamspam\n"
     ]
    }
   ],
   "source": [
    "print('spam' + 'spamspam ') #  ---------> it will concatenate the two string spam and spamspam \n",
    "print('spam'* 3) # -------------> it will print spam 3 time without space\n",
    " # both the value will be same"
   ]
  },
  {
   "cell_type": "code",
   "execution_count": null,
   "id": "f6c2f630",
   "metadata": {},
   "outputs": [],
   "source": [
    "8. Why is eggs a valid variable name while 100 is invalid?\n",
    "\n"
   ]
  },
  {
   "cell_type": "code",
   "execution_count": null,
   "id": "33200a6e",
   "metadata": {},
   "outputs": [],
   "source": [
    "Eggs is a string and it can be a variable name but 100 is an integer ,so it cant be a variable name."
   ]
  },
  {
   "cell_type": "raw",
   "id": "f0cf09ca",
   "metadata": {},
   "source": [
    "9. What three functions can be used to get the integer, floating-point number, or string\n",
    "version of a value?\n"
   ]
  },
  {
   "cell_type": "code",
   "execution_count": null,
   "id": "49af8f0d",
   "metadata": {},
   "outputs": [],
   "source": [
    "To get integer version of a value function used int()\n",
    "To get floating-point version of a value function used float()\n",
    "To get string version of a value function used str()"
   ]
  },
  {
   "cell_type": "raw",
   "id": "28aedd34",
   "metadata": {},
   "source": [
    "10. Why does this expression cause an error? How can you fix it?\n",
    "'I have eaten ' + 99 + ' burritos .'"
   ]
  },
  {
   "cell_type": "code",
   "execution_count": 1,
   "id": "65245461",
   "metadata": {},
   "outputs": [
    {
     "ename": "TypeError",
     "evalue": "can only concatenate str (not \"int\") to str",
     "output_type": "error",
     "traceback": [
      "\u001b[1;31m---------------------------------------------------------------------------\u001b[0m",
      "\u001b[1;31mTypeError\u001b[0m                                 Traceback (most recent call last)",
      "\u001b[1;32m~\\AppData\\Local\\Temp\\ipykernel_8780\\3970702592.py\u001b[0m in \u001b[0;36m<module>\u001b[1;34m\u001b[0m\n\u001b[1;32m----> 1\u001b[1;33m \u001b[0mprint\u001b[0m\u001b[1;33m(\u001b[0m\u001b[1;34m'I have eaten '\u001b[0m \u001b[1;33m+\u001b[0m \u001b[1;36m99\u001b[0m \u001b[1;33m+\u001b[0m \u001b[1;34m' burritos .'\u001b[0m\u001b[1;33m)\u001b[0m\u001b[1;33m\u001b[0m\u001b[1;33m\u001b[0m\u001b[0m\n\u001b[0m",
      "\u001b[1;31mTypeError\u001b[0m: can only concatenate str (not \"int\") to str"
     ]
    }
   ],
   "source": [
    "print('I have eaten ' + 99 + ' burritos .')"
   ]
  },
  {
   "cell_type": "code",
   "execution_count": 3,
   "id": "11ff631c",
   "metadata": {},
   "outputs": [
    {
     "name": "stdout",
     "output_type": "stream",
     "text": [
      "I have eaten 99 burritos .\n",
      "I have eaten 99 burritos .\n"
     ]
    }
   ],
   "source": [
    "#This show this error because , 99 is and integer and other two are strings . So it cant concatenate the intere with the strings.\n",
    "\n",
    "print('I have eaten' + ' 99 ' +'burritos .')\n",
    "print('I have eaten 99 burritos .')"
   ]
  },
  {
   "cell_type": "code",
   "execution_count": null,
   "id": "128b158c",
   "metadata": {},
   "outputs": [],
   "source": []
  }
 ],
 "metadata": {
  "kernelspec": {
   "display_name": "Python 3 (ipykernel)",
   "language": "python",
   "name": "python3"
  },
  "language_info": {
   "codemirror_mode": {
    "name": "ipython",
    "version": 3
   },
   "file_extension": ".py",
   "mimetype": "text/x-python",
   "name": "python",
   "nbconvert_exporter": "python",
   "pygments_lexer": "ipython3",
   "version": "3.9.13"
  }
 },
 "nbformat": 4,
 "nbformat_minor": 5
}
