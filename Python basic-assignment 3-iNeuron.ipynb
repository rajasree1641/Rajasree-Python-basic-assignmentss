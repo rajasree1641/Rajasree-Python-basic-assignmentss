{
 "cells": [
  {
   "cell_type": "code",
   "execution_count": null,
   "id": "e2453349",
   "metadata": {},
   "outputs": [],
   "source": [
    "1. Why are functions advantageous to have in your programs?\n",
    "\n",
    "-----------------------------------------------------------\n",
    "\n",
    "Functions reduce the need for duplicate code. This makes programs shorter, easier to read and easier to update.\n"
   ]
  },
  {
   "cell_type": "code",
   "execution_count": null,
   "id": "0474e91e",
   "metadata": {},
   "outputs": [],
   "source": [
    "2. When does the code in a function run: when it's specified or when it's called?\n",
    "    \n",
    "--------------------------------------------------------------------------------\n",
    "\n",
    "The code in a function executes when the function is called, not when the function is defined.\n",
    "When a function is \"called\" the program \"leaves\" the current section of code and begins to execute the first line inside the function.\n"
   ]
  },
  {
   "cell_type": "code",
   "execution_count": null,
   "id": "0c443495",
   "metadata": {},
   "outputs": [],
   "source": [
    "3. What statement creates a function?\n",
    "\n",
    "-----------------------------------------\n",
    "\n",
    "def function-name(): \n",
    "The def statement defines (that is, creates) a function.\n"
   ]
  },
  {
   "cell_type": "code",
   "execution_count": null,
   "id": "c437ce44",
   "metadata": {},
   "outputs": [],
   "source": [
    "4. What is the difference between a function and a function call?\n",
    "\n",
    "---------------------------------------------------------\n",
    "\n",
    "A function consists of the def statement and the code in its def clause.\n",
    "\n",
    "A function call is what moves the program execution into the function, and the function call evaluates to the function's return value.\n"
   ]
  },
  {
   "cell_type": "code",
   "execution_count": null,
   "id": "bfcb6e9b",
   "metadata": {},
   "outputs": [],
   "source": [
    "5. How many global scopes are there in a Python program? How many local scopes?\n",
    "\n",
    "-------------------------------------------------------\n",
    "\n",
    "There is one global scope, and a local scope is created whenever a function is called.\n"
   ]
  },
  {
   "cell_type": "code",
   "execution_count": null,
   "id": "1b239926",
   "metadata": {},
   "outputs": [],
   "source": [
    "6. What happens to variables in a local scope when the function call returns?\n",
    "\n",
    "----------------------------------------------------------------------\n",
    "\n",
    "When a function returns, the local scope is destroyed, and all the variables in it are forgotten.\n"
   ]
  },
  {
   "cell_type": "code",
   "execution_count": null,
   "id": "1970e438",
   "metadata": {},
   "outputs": [],
   "source": [
    "7. What is the concept of a return value? Is it possible to have a return value in an expression?\n",
    "\n",
    "------------------------------------------------------------------\n",
    "\n",
    "A return value is the value that a function call evaluates to. Like any value, a return value can be used as part of an expression.\n"
   ]
  },
  {
   "cell_type": "code",
   "execution_count": null,
   "id": "c7bd4fe4",
   "metadata": {},
   "outputs": [],
   "source": [
    "8. If a function does not have a return statement, what is the return value of a call to that function?\n",
    "\n",
    "-------------------------------------------------------------\n",
    "\n",
    "If there is no return statement for a function, its return value is None.\n"
   ]
  },
  {
   "cell_type": "code",
   "execution_count": null,
   "id": "7611144a",
   "metadata": {},
   "outputs": [],
   "source": [
    "9. How do you make a function variable refer to the global variable?\n",
    "\n",
    "------------------------------------------------------------\n",
    "\n",
    "A global statement will force a variable in a function to refer to the global variable."
   ]
  },
  {
   "cell_type": "code",
   "execution_count": null,
   "id": "2c134034",
   "metadata": {},
   "outputs": [],
   "source": [
    "10. What is the data type of None?\n",
    "\n",
    "----------------------------------------------\n",
    "\n",
    "The data type of None is NoneType.\n"
   ]
  },
  {
   "cell_type": "code",
   "execution_count": null,
   "id": "1868cdc3",
   "metadata": {},
   "outputs": [],
   "source": [
    "11. What does the sentence import areallyourpetsnamederic do?\n",
    "\n",
    "-------------------------------------------------\n",
    "\n",
    "That import statement imports a module named areallyourpetsnamederic.\n"
   ]
  },
  {
   "cell_type": "code",
   "execution_count": null,
   "id": "d3e1b24e",
   "metadata": {},
   "outputs": [],
   "source": [
    "12. If you had a bacon() feature in a spam module, what would you call it after importing spam?\n",
    "\n",
    "--------------------------------------------------------------\n",
    "\n",
    "This function can be called with spam. bacon().\n"
   ]
  },
  {
   "cell_type": "code",
   "execution_count": null,
   "id": "3d06d689",
   "metadata": {},
   "outputs": [],
   "source": [
    "13. What can you do to save a programme from crashing if it encounters an error?\n",
    "\n",
    "-------------------------------------------------------------\n",
    "\n",
    "Error is of two types  Syntax errors and Exceptions.\n",
    "\n",
    "Syntax errors : - Error is caused by the wrong syntax in the code. It leads to the termination of the program. \n",
    "    \n",
    "Exceptions : -  Exceptions are raised when the program is syntactically correct, but the code resulted in an error. \n",
    "                This error does not stop the execution of the program, however, it changes the normal flow of the program.\n",
    "    \n",
    "Try and Except statements are used to catch and handle exceptions in Python. \n",
    "Statements that can raise exceptions are kept inside the try clause and the statements that handle the exception are written inside except clause.    \n",
    "    "
   ]
  },
  {
   "cell_type": "code",
   "execution_count": null,
   "id": "7234616c",
   "metadata": {},
   "outputs": [],
   "source": [
    "14. What is the purpose of the try clause? What is the purpose of the except clause?\n",
    "\n",
    "-------------------------------------------------------------------\n",
    "\n",
    "Try and except statements are used to catch and handle exceptions in Python. \n",
    "Statements that can raise exceptions are kept inside the try clause and the statements that handle the exception are written inside except clause."
   ]
  }
 ],
 "metadata": {
  "kernelspec": {
   "display_name": "Python 3 (ipykernel)",
   "language": "python",
   "name": "python3"
  },
  "language_info": {
   "codemirror_mode": {
    "name": "ipython",
    "version": 3
   },
   "file_extension": ".py",
   "mimetype": "text/x-python",
   "name": "python",
   "nbconvert_exporter": "python",
   "pygments_lexer": "ipython3",
   "version": "3.9.13"
  }
 },
 "nbformat": 4,
 "nbformat_minor": 5
}
